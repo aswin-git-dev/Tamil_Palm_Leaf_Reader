{
  "nbformat": 4,
  "nbformat_minor": 0,
  "metadata": {
    "colab": {
      "provenance": []
    },
    "kernelspec": {
      "name": "python3",
      "display_name": "Python 3"
    },
    "language_info": {
      "name": "python"
    }
  },
  "cells": [
    {
      "cell_type": "code",
      "execution_count": 1,
      "metadata": {
        "colab": {
          "base_uri": "https://localhost:8080/"
        },
        "id": "D0XRggIOnaGU",
        "outputId": "2a253c7e-0a95-46f2-8ee5-ada840f19bd9"
      },
      "outputs": [
        {
          "output_type": "stream",
          "name": "stdout",
          "text": [
            "Collecting jiwer\n",
            "  Downloading jiwer-4.0.0-py3-none-any.whl.metadata (3.3 kB)\n",
            "Requirement already satisfied: click>=8.1.8 in /usr/local/lib/python3.11/dist-packages (from jiwer) (8.2.1)\n",
            "Collecting rapidfuzz>=3.9.7 (from jiwer)\n",
            "  Downloading rapidfuzz-3.13.0-cp311-cp311-manylinux_2_17_x86_64.manylinux2014_x86_64.whl.metadata (12 kB)\n",
            "Downloading jiwer-4.0.0-py3-none-any.whl (23 kB)\n",
            "Downloading rapidfuzz-3.13.0-cp311-cp311-manylinux_2_17_x86_64.manylinux2014_x86_64.whl (3.1 MB)\n",
            "\u001b[2K   \u001b[90m━━━━━━━━━━━━━━━━━━━━━━━━━━━━━━━━━━━━━━━━\u001b[0m \u001b[32m3.1/3.1 MB\u001b[0m \u001b[31m8.5 MB/s\u001b[0m eta \u001b[36m0:00:00\u001b[0m\n",
            "\u001b[?25hInstalling collected packages: rapidfuzz, jiwer\n",
            "Successfully installed jiwer-4.0.0 rapidfuzz-3.13.0\n"
          ]
        }
      ],
      "source": [
        "pip install jiwer"
      ]
    },
    {
      "cell_type": "code",
      "source": [
        "TR OCR MERTICS"
      ],
      "metadata": {
        "id": "vmp-RiPVng5d"
      },
      "execution_count": null,
      "outputs": []
    },
    {
      "cell_type": "code",
      "source": [
        "from jiwer import wer, cer\n",
        "import editdistance\n",
        "\n",
        "# actual words\n",
        "ground_truths = [\n",
        "    \"வழஙெனபொருொகாததிானெலஇழடிணணபபடுமஎனது\", \"ாருபபாெஙதாடுன\",\n",
        "]\n",
        "\n",
        "predictions = [\n",
        "    \"வழஙெனபொருாாகாததிானெலஇழடிணணபபடுமஎனது\",\n",
        "    \"ாருபபாெஙதாடுன\"\n",
        "]\n",
        "\n",
        "# Initialize accumulators\n",
        "total_chars = 0\n",
        "total_char_errors = 0\n",
        "total_words = 0\n",
        "total_word_errors = 0\n",
        "total_levenshtein = 0\n",
        "\n",
        "for gt, pred in zip(ground_truths, predictions):\n",
        "    total_chars += len(gt)\n",
        "    total_char_errors += editdistance.eval(gt, pred)\n",
        "    total_levenshtein += editdistance.eval(gt, pred)\n",
        "\n",
        "    gt_words = gt.split()\n",
        "    pred_words = pred.split()\n",
        "    total_words += len(gt_words)\n",
        "    total_word_errors += editdistance.eval(gt_words, pred_words)\n",
        "\n",
        "# Compute metrics\n",
        "cer_score = total_char_errors / total_chars if total_chars > 0 else 0\n",
        "wer_score = total_word_errors / total_words if total_words > 0 else 0\n",
        "avg_levenshtein = total_levenshtein / len(ground_truths)\n",
        "\n",
        "print(f\"Character Error Rate (CER): {cer_score:.4f}\")\n",
        "print(f\"Word Error Rate (WER): {wer_score:.4f}\")\n",
        "print(f\"Average Levenshtein Distance: {avg_levenshtein:.2f}\")\n"
      ],
      "metadata": {
        "colab": {
          "base_uri": "https://localhost:8080/"
        },
        "id": "dVY9UL6FncL_",
        "outputId": "f8bffc70-25f0-4fce-a0de-0ee26e49fa7b"
      },
      "execution_count": 2,
      "outputs": [
        {
          "output_type": "stream",
          "name": "stdout",
          "text": [
            "Character Error Rate (CER): 0.0208\n",
            "Word Error Rate (WER): 0.5000\n",
            "Average Levenshtein Distance: 0.50\n"
          ]
        }
      ]
    },
    {
      "cell_type": "code",
      "source": [
        "CNN MERTICS"
      ],
      "metadata": {
        "id": "WAMdRW1Pn4pv"
      },
      "execution_count": null,
      "outputs": []
    },
    {
      "cell_type": "code",
      "source": [
        "from jiwer import wer, cer\n",
        "import editdistance\n",
        "\n",
        "# actual words\n",
        "ground_truths = [\n",
        "    \"வழஙெனபொருொகாததிானெலஇழடிணணபபடுமஎனது\", \"ாருபபாெஙதாடுன\",\n",
        "]\n",
        "\n",
        "predictions = [\n",
        "    \"வழஙெனபொொாகாததானெலஇழடிணணபாெமஎனது\",\n",
        "   \" ாருபாாெஙதாென\"\n",
        "]\n",
        "\n",
        "# Initialize accumulators\n",
        "total_chars = 0\n",
        "total_char_errors = 0\n",
        "total_words = 0\n",
        "total_word_errors = 0\n",
        "total_levenshtein = 0\n",
        "\n",
        "for gt, pred in zip(ground_truths, predictions):\n",
        "    total_chars += len(gt)\n",
        "    total_char_errors += editdistance.eval(gt, pred)\n",
        "    total_levenshtein += editdistance.eval(gt, pred)\n",
        "\n",
        "    gt_words = gt.split()\n",
        "    pred_words = pred.split()\n",
        "    total_words += len(gt_words)\n",
        "    total_word_errors += editdistance.eval(gt_words, pred_words)\n",
        "\n",
        "# Compute metrics\n",
        "cer_score = total_char_errors / total_chars if total_chars > 0 else 0\n",
        "wer_score = total_word_errors / total_words if total_words > 0 else 0\n",
        "avg_levenshtein = total_levenshtein / len(ground_truths)\n",
        "\n",
        "print(f\"Character Error Rate (CER): {cer_score:.4f}\")\n",
        "print(f\"Word Error Rate (WER): {wer_score:.4f}\")\n",
        "print(f\"Average Levenshtein Distance: {avg_levenshtein:.2f}\")\n"
      ],
      "metadata": {
        "colab": {
          "base_uri": "https://localhost:8080/"
        },
        "id": "3wpj5HA-n9B1",
        "outputId": "c05626c3-0ada-4c94-bd46-9ad4bb6daed8"
      },
      "execution_count": 4,
      "outputs": [
        {
          "output_type": "stream",
          "name": "stdout",
          "text": [
            "Character Error Rate (CER): 0.2292\n",
            "Word Error Rate (WER): 1.0000\n",
            "Average Levenshtein Distance: 5.50\n"
          ]
        }
      ]
    }
  ]
}